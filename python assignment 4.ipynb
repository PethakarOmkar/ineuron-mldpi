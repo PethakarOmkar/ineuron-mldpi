{
 "cells": [
  {
   "cell_type": "markdown",
   "metadata": {},
   "source": [
    "## Answer 1.1"
   ]
  },
  {
   "cell_type": "code",
   "execution_count": 5,
   "metadata": {},
   "outputs": [
    {
     "name": "stdout",
     "output_type": "stream",
     "text": [
      "Enter first side a = 345\n",
      "Enter second side b = 675\n",
      "Enter third  side c = 432\n",
      "area : 64400.5463020307\n"
     ]
    }
   ],
   "source": [
    "class parenttriangle:\n",
    "    def __init__(self, a, b, c):\n",
    "        self.a = float(input(\"Enter first side a = \"))\n",
    "        self.b = float(input(\"Enter second side b = \"))\n",
    "        self.c = float(input(\"Enter third  side c = \"))\n",
    "        \n",
    "\n",
    "class subtriangle(parenttriangle):\n",
    "    def __init__(self, a, b, c):\n",
    "        super().__init__(a, b, c)\n",
    "\n",
    "    def area_triangle(self):\n",
    "        s = (self.a + self.b + self.c) / 2\n",
    "        return  float((s * (s - self.a) * (s - self.b) * (s - self.c))) ** 0.5\n",
    "a=b=c=0\n",
    "t = subtriangle(a, b, c) \n",
    "print(\"area : {}\".format(t.area_triangle()))"
   ]
  },
  {
   "cell_type": "markdown",
   "metadata": {},
   "source": [
    "## Answer 1.2"
   ]
  },
  {
   "cell_type": "code",
   "execution_count": 6,
   "metadata": {},
   "outputs": [
    {
     "name": "stdout",
     "output_type": "stream",
     "text": [
      "Enter words, separated by spaces: fghj kkl ppl kk \n",
      "Minimum length of words to keep: 2\n",
      "Words longer than 2 are fghj, kkl, ppl.\n"
     ]
    }
   ],
   "source": [
    "def long_words(str, n):\n",
    "    word_len = []\n",
    "    txt = str.split(\" \")\n",
    "    for x in txt:\n",
    "        if len(x) > n:\n",
    "            word_len.append(x)\n",
    "    return word_len\n",
    "\n",
    "def mainfun():\n",
    "    words = input(\"Enter words, separated by spaces: \")\n",
    "    length = int(input(\"Minimum length of words to keep: \"))\n",
    "    \n",
    "    print(\"Words longer than {} are {}.\".format(length,\n",
    "          ', '.join(long_words(words, length))))\n",
    "\n",
    "mainfun()"
   ]
  },
  {
   "cell_type": "code",
   "execution_count": null,
   "metadata": {},
   "outputs": [],
   "source": []
  },
  {
   "cell_type": "markdown",
   "metadata": {},
   "source": [
    "## Answer 2.1"
   ]
  },
  {
   "cell_type": "code",
   "execution_count": 9,
   "metadata": {},
   "outputs": [
    {
     "name": "stdout",
     "output_type": "stream",
     "text": [
      "Input : Please enter Words : ab,cde,erty\n",
      "Output: Length of Words are : [2, 3, 4]\n"
     ]
    }
   ],
   "source": [
    "def lenghth_of_words(List):\n",
    "    return list(map(len, List))\n",
    "\n",
    "word_List=list(input(\"Input : Please enter Words : \").split(\",\"))\n",
    "Wordlen=lenghth_of_words(word_List)\n",
    "\n",
    "\n",
    "print(\"Output: Length of Words are :\",Wordlen)"
   ]
  },
  {
   "cell_type": "markdown",
   "metadata": {},
   "source": [
    "## Answer 2.2"
   ]
  },
  {
   "cell_type": "code",
   "execution_count": 11,
   "metadata": {},
   "outputs": [
    {
     "name": "stdout",
     "output_type": "stream",
     "text": [
      "Enter a character :\n",
      "i\n",
      "True\n"
     ]
    }
   ],
   "source": [
    "def is_vowel(char):\n",
    "    vowels = ('a', 'e', 'i', 'o', 'u', 'A', 'E', 'I', 'O', 'U')\n",
    "    if char not in vowels:\n",
    "        return False\n",
    "    return True\n",
    "\n",
    "print (\"Enter a character :\") \n",
    "x = input()\n",
    "\n",
    "if len(x)>1:\n",
    "    print(\"Enter a single character only\")\n",
    "else:\n",
    "    print(is_vowel(x))"
   ]
  },
  {
   "cell_type": "code",
   "execution_count": null,
   "metadata": {},
   "outputs": [],
   "source": []
  }
 ],
 "metadata": {
  "kernelspec": {
   "display_name": "Python 3",
   "language": "python",
   "name": "python3"
  },
  "language_info": {
   "codemirror_mode": {
    "name": "ipython",
    "version": 3
   },
   "file_extension": ".py",
   "mimetype": "text/x-python",
   "name": "python",
   "nbconvert_exporter": "python",
   "pygments_lexer": "ipython3",
   "version": "3.8.5"
  }
 },
 "nbformat": 4,
 "nbformat_minor": 4
}
